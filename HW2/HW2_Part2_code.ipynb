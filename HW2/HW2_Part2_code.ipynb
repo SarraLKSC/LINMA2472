{
  "nbformat": 4,
  "nbformat_minor": 0,
  "metadata": {
    "colab": {
      "name": "Project2_part2_update.ipynb",
      "provenance": [],
      "collapsed_sections": []
    },
    "kernelspec": {
      "display_name": "Python 3",
      "language": "python",
      "name": "python3"
    },
    "language_info": {
      "codemirror_mode": {
        "name": "ipython",
        "version": 3
      },
      "file_extension": ".py",
      "mimetype": "text/x-python",
      "name": "python",
      "nbconvert_exporter": "python",
      "pygments_lexer": "ipython3",
      "version": "3.8.3"
    }
  },
  "cells": [
    {
      "cell_type": "markdown",
      "metadata": {
        "id": "u1co8gY5jdDq"
      },
      "source": [
        "<h1><center>LINMA2472 : Porject 2, part 2, Random Fourier Features </center></h1>\n",
        "\n",
        "Remi Delogne, remi.delogne@uclouvain.be"
      ]
    },
    {
      "cell_type": "markdown",
      "metadata": {
        "id": "CL6ZrSF1jdDw"
      },
      "source": [
        "Import the following packages and functions. Refer to their documentation on the internet for more information on installation and usage.\n"
      ]
    },
    {
      "cell_type": "code",
      "metadata": {
        "id": "2lRnlqLGjdDz"
      },
      "source": [
        "import numpy as np\n",
        "import math\n",
        "import random \n",
        "from sklearn import preprocessing\n",
        "from sklearn.model_selection import train_test_split\n",
        "from sklearn import datasets, svm\n",
        "from sklearn.svm import LinearSVC\n",
        "from sklearn import metrics\n",
        "from sklearn.metrics import accuracy_score\n",
        "\n",
        "from keras.datasets import mnist #Contains the dataset\n",
        "import matplotlib.pyplot as plt\n",
        "from matplotlib import pyplot\n",
        "\n",
        "\n",
        "import time #Used to find the execution time of a part of the code"
      ],
      "execution_count": 1,
      "outputs": []
    },
    {
      "cell_type": "code",
      "metadata": {
        "colab": {
          "base_uri": "https://localhost:8080/",
          "height": 318
        },
        "id": "Wm0CyhxvjdD2",
        "outputId": "8560fe61-2755-456d-8ca8-f46b555b1911"
      },
      "source": [
        "# load dataset and rescale the data to [0,15]\n",
        "''' load dataset: (we use the larger subset for testing and the smaller \n",
        "for training to demonstrate the efficiency of evaluation of new instances)'''\n",
        "(testX,testy),(trainX,trainy) = mnist.load_data()\n",
        "#Rescaling\n",
        "trainX = np.floor(trainX/16)\n",
        "testX = np.floor(testX/16)\n",
        "\n",
        "#Plot some images, for fun\n",
        "for i in range(9):\n",
        "    pyplot.subplot(330+1+i)\n",
        "    pyplot.imshow(trainX[i], cmap=pyplot.get_cmap('gray'))\n",
        "pyplot.show()\n",
        "\n",
        "#Put the data in vector form\n",
        "trainX=trainX.reshape((10000,-1))\n",
        "testX=testX.reshape((60000,-1))"
      ],
      "execution_count": 2,
      "outputs": [
        {
          "output_type": "stream",
          "name": "stdout",
          "text": [
            "Downloading data from https://storage.googleapis.com/tensorflow/tf-keras-datasets/mnist.npz\n",
            "11493376/11490434 [==============================] - 0s 0us/step\n",
            "11501568/11490434 [==============================] - 0s 0us/step\n"
          ]
        },
        {
          "output_type": "display_data",
          "data": {
            "image/png": "[encoded data removed]",
            "text/plain": [
              "<Figure size 432x288 with 9 Axes>"
            ]
          },
          "metadata": {
            "needs_background": "light"
          }
        }
      ]
    },
    {
      "cell_type": "markdown",
      "metadata": {
        "id": "qyN2Y8TVjdD4"
      },
      "source": [
        "### Use the *time* package functions to time the execution of parts of your code:"
      ]
    },
    {
      "cell_type": "code",
      "metadata": {
        "colab": {
          "base_uri": "https://localhost:8080/"
        },
        "id": "OckyGLjJjdD5",
        "outputId": "758426d1-53fd-46f0-db22-228e2b101c35"
      },
      "source": [
        "#Example of timing a piece of code\n",
        "tik=time.perf_counter() # Start\n",
        "for i in range (100000000):\n",
        "    i=i+1\n",
        "tok=time.perf_counter() # Finish\n",
        "print('Total time: %s' % (tok-tik))"
      ],
      "execution_count": 3,
      "outputs": [
        {
          "output_type": "stream",
          "name": "stdout",
          "text": [
            "Total time: 11.521982516000207\n"
          ]
        }
      ]
    },
    {
      "cell_type": "markdown",
      "metadata": {
        "id": "UlTCevqWjdD7"
      },
      "source": [
        "### Train a linear SVM on the training data and evaluate it on the testing data\n",
        "Use the tik-tok method to see how long the method takes to evaluate the 60.000 testing instances\n",
        "\n",
        "Use the accuracy metric to judge the quality of your classifier"
      ]
    },
    {
      "cell_type": "code",
      "metadata": {
        "colab": {
          "base_uri": "https://localhost:8080/"
        },
        "id": "LIrTFu5wjdD-",
        "outputId": "e66ae1bf-f2fc-46c8-edd8-54bf72e560fe"
      },
      "source": [
        "#Define the classifier\n",
        "clfLin=svm.SVC(kernel=\"linear\")\n",
        "#Train the classifier\n",
        "clfLin.fit(trainX,trainy)\n",
        "\n",
        "#Evaluate its accuracy\n",
        "tik=time.perf_counter() #start time count \n",
        "predicted=clfLin.predict(testX)\n",
        "tok=time.perf_counter() #finish time count \n",
        "score=accuracy_score(testy,predicted)\n",
        "print('Accuracy:%s' % (score))\n",
        "print('Total time: %s' % (tok-tik))"
      ],
      "execution_count": 4,
      "outputs": [
        {
          "output_type": "stream",
          "name": "stdout",
          "text": [
            "Accuracy:0.90665\n",
            "Total time: 71.19023722199927\n"
          ]
        }
      ]
    },
    {
      "cell_type": "markdown",
      "metadata": {
        "id": "fpSwm4SvjdEA"
      },
      "source": [
        "### Train a Kernel SVM with the Gaussian Kernel on the training data and evaluate it on the testing data\n",
        "Use the tik-tok method to see how long the method takes to evaluate the $60000$ testing instances\n",
        "\n",
        "Use the accuracy metric to judge the quality of your classifier\n",
        "\n",
        "You may stick to the default parameters of sci-kit learn"
      ]
    },
    {
      "cell_type": "code",
      "metadata": {
        "colab": {
          "base_uri": "https://localhost:8080/"
        },
        "id": "S8uze30DjdED",
        "outputId": "617e4d67-624c-459a-d27c-3493391e29d2"
      },
      "source": [
        "#Define the classifier\n",
        "clfKernel=svm.SVC(kernel='rbf')\n",
        "#Train it\n",
        "clfKernel.fit(trainX, trainy)\n",
        "#Use it\n",
        "tik=time.perf_counter() #start time count \n",
        "predicted=clfKernel.predict(testX)\n",
        "tok=time.perf_counter() #finish time count \n",
        "score=accuracy_score(testy,predicted)\n",
        "print('Accuracy: %s' % (score))\n",
        "print('Total time: %s' % (tok-tik))"
      ],
      "execution_count": 5,
      "outputs": [
        {
          "output_type": "stream",
          "name": "stdout",
          "text": [
            "Accuracy: 0.9560833333333333\n",
            "Total time: 187.74011518500083\n"
          ]
        }
      ]
    },
    {
      "cell_type": "markdown",
      "metadata": {
        "id": "b-FAuIw_jdEE"
      },
      "source": [
        "### Use the following functions to implement Random Fourier Features\n",
        "\n",
        "Use the first function to generate your $\\boldsymbol\\omega_i$ and $b_i$\n",
        "\n",
        "Use the second function to create the mapping $\\boldsymbol z(\\boldsymbol x)$ as described in the slides."
      ]
    },
    {
      "cell_type": "code",
      "metadata": {
        "id": "Kbk3O8OujdEG"
      },
      "source": [
        "def generate_freq(sigma,D):\n",
        "  #slide 37 says that the fourrier transform of gaussian kernel is approximatly the gaussian distribution # \n",
        "  # gaussian distribution can be computed with numpy.random.normal\n",
        "    mu= 0\n",
        "    b=[]\n",
        "    W=[]\n",
        "    for i in range(D):\n",
        "      W.append(np.random.normal(mu, sigma, 784))\n",
        "      b.append(random.random()*math.pi*2)\n",
        "    return np.array(W),np.array(b)\n",
        "\n",
        "def rff_gaussian2(x,W,b,D):\n",
        "    Z=np.cos( x @ W.T + b) * (math.sqrt(2)/D)\n",
        "    return Z\n"
      ],
      "execution_count": 6,
      "outputs": []
    },
    {
      "cell_type": "markdown",
      "metadata": {
        "id": "XIpkl6zljdEI"
      },
      "source": [
        "### Transform your trainX and testX\n",
        "\n",
        "Use the function you defined to transform your data\n",
        "\n",
        "Make sure you only generate $\\boldsymbol W$ and $\\boldsymbol b$ once\n",
        "\n",
        "Use $\\sigma=100$ and $D=300$\n",
        "\n",
        "You may also use the tik-tok method to time the procedure of creating Random features"
      ]
    },
    {
      "cell_type": "code",
      "metadata": {
        "colab": {
          "base_uri": "https://localhost:8080/"
        },
        "id": "_KvDTL2FjdEK",
        "outputId": "957cd773-3d85-4a16-8206-cec1b11c4269"
      },
      "source": [
        "W,b=generate_freq(0.01,300)\n",
        "tik=time.perf_counter() #start time count \n",
        "trainX_rff=rff_gaussian2(trainX,W,b,300)\n",
        "tok=time.perf_counter() #finish time count \n",
        "print('Total time: %s' % (tok-tik))\n",
        "tik=time.perf_counter() #start time count \n",
        "testX_rff=rff_gaussian2(testX,W,b,300)\n",
        "tok=time.perf_counter() #finish time count \n",
        "print('Total time: %s' % (tok-tik))"
      ],
      "execution_count": 7,
      "outputs": [
        {
          "output_type": "stream",
          "name": "stdout",
          "text": [
            "Total time: 0.29570817800049554\n",
            "Total time: 1.619298028999765\n"
          ]
        }
      ]
    },
    {
      "cell_type": "code",
      "metadata": {
        "id": "q7SOiO2h2jhR"
      },
      "source": [
        "trainX_rff=np.array(trainX_rff)\n",
        "testX_rff=np.array(testX_rff)"
      ],
      "execution_count": 8,
      "outputs": []
    },
    {
      "cell_type": "code",
      "metadata": {
        "colab": {
          "base_uri": "https://localhost:8080/"
        },
        "id": "3g13Aj1AySpC",
        "outputId": "6ca04d57-eddd-4a15-beb7-1f103a1caa70"
      },
      "source": [
        "trainX.shape"
      ],
      "execution_count": 9,
      "outputs": [
        {
          "output_type": "execute_result",
          "data": {
            "text/plain": [
              "(10000, 784)"
            ]
          },
          "metadata": {},
          "execution_count": 9
        }
      ]
    },
    {
      "cell_type": "code",
      "metadata": {
        "colab": {
          "base_uri": "https://localhost:8080/"
        },
        "id": "p8Ckh2dd0o7L",
        "outputId": "77a65c11-bab6-4862-fbb9-b224c5296796"
      },
      "source": [
        "print(f\"  trainx of type {type(trainX)}  trainX_rff of type {type(trainX_rff)} \\n trainx of shape {trainX.shape}  train_rff of shape {trainX_rff.shape}\")"
      ],
      "execution_count": 10,
      "outputs": [
        {
          "output_type": "stream",
          "name": "stdout",
          "text": [
            "  trainx of type <class 'numpy.ndarray'>  trainX_rff of type <class 'numpy.ndarray'> \n",
            " trainx of shape (10000, 784)  train_rff of shape (10000, 300)\n"
          ]
        }
      ]
    },
    {
      "cell_type": "markdown",
      "metadata": {
        "id": "T7TvPM8kjdEL"
      },
      "source": [
        "### Use another linear SVM to classify the transformed data"
      ]
    },
    {
      "cell_type": "code",
      "metadata": {
        "colab": {
          "base_uri": "https://localhost:8080/"
        },
        "id": "yjswhgQOjdEM",
        "outputId": "f76a7478-122d-40e0-e16a-a948dff5f72f"
      },
      "source": [
        "#Define the classifier\n",
        "clfRff = svm.SVC(kernel=\"linear\",C=np.inf)\n",
        "#Train it\n",
        "clfRff.fit(trainX_rff, trainy)\n",
        "#Use it\n",
        "tik=time.perf_counter() #start time count \n",
        "predicted = clfRff.predict(testX_rff)\n",
        "tok=time.perf_counter() #finish time count \n",
        "score = accuracy_score(testy,predicted)\n",
        "print('Accuracy: %s' % (score))\n",
        "print('Total time: %s' % (tok-tik))"
      ],
      "execution_count": 11,
      "outputs": [
        {
          "output_type": "stream",
          "name": "stdout",
          "text": [
            "Accuracy: 0.8963333333333333\n",
            "Total time: 22.940672713000822\n"
          ]
        }
      ]
    },
    {
      "cell_type": "markdown",
      "metadata": {
        "id": "LdR5Sm3YjdEN"
      },
      "source": [
        "### Additional workspace "
      ]
    },
    {
      "cell_type": "markdown",
      "metadata": {
        "id": "rd0ZUXu7jdEN"
      },
      "source": [
        "Testing the accuracy for different values of $D$."
      ]
    },
    {
      "cell_type": "code",
      "metadata": {
        "id": "EVNVsU4-jdEO"
      },
      "source": [
        "#Define a vector to store the accuracy values you will get\n",
        "accuracy=[]\n",
        "train_time=[]\n",
        "test_time=[]\n",
        "rff_time=[]\n",
        "#Define for which values of D you want to test the RFF\n",
        "try_val=[200,250,300,400,500,1000]\n",
        "for i in range(6):\n",
        "    D=try_val[i]\n",
        "    W,b=generate_freq(0.01,D)\n",
        "\n",
        "    tik=time.perf_counter() #start time count \n",
        "    trainX_rff=rff_gaussian2(trainX,W,b,D)\n",
        "    tok=time.perf_counter() #finish time count \n",
        "    rff_time.append(tok-tik)\n",
        "\n",
        "\n",
        "    testX_rff=rff_gaussian2(testX,W,b,D)\n",
        "\n",
        "    #Train and evaluate a linear classifier\n",
        "    clfRff = svm.SVC(kernel=\"linear\",C=np.inf)\n",
        "\n",
        "    tik=time.perf_counter() #start time count \n",
        "    clfRff.fit(trainX_rff, trainy)\n",
        "    tok=time.perf_counter() #finish time count \n",
        "    train_time.append(tok-tik)\n",
        "\n",
        "    tik=time.perf_counter() #start time count \n",
        "    predicted = clfRff.predict(testX_rff)\n",
        "    tok=time.perf_counter() #finish time count \n",
        "    test_time.append(tok-tik)\n",
        "\n",
        "    acc = accuracy_score(testy,predicted)\n",
        "    accuracy.append(acc)"
      ],
      "execution_count": 12,
      "outputs": []
    },
    {
      "cell_type": "markdown",
      "metadata": {
        "id": "L2245t35jdEP"
      },
      "source": [
        "### Don't forget to add plots and other nice things"
      ]
    },
    {
      "cell_type": "code",
      "metadata": {
        "colab": {
          "base_uri": "https://localhost:8080/",
          "height": 315
        },
        "id": "v79NZeZZWvFI",
        "outputId": "b7571b10-0991-4afa-a0c8-2be58fe8b4ae"
      },
      "source": [
        "# Q1 compare the time and acc of 3 classifiers \n",
        "names= ['linear SVM', 'Gaussian Kernel SVM', 'Linear SVM with RFF']\n",
        "value= [90, 95, 88]\n",
        "plt.bar(names,value,width=0.4)\n",
        "plt.ylabel('accuracy',fontsize=12)\n",
        "plt.xlabel('classifier',fontsize=12)\n",
        "plt.title(\"comparision between classifiers\", fontweight='bold')"
      ],
      "execution_count": 13,
      "outputs": [
        {
          "output_type": "execute_result",
          "data": {
            "text/plain": [
              "Text(0.5, 1.0, 'comparision between classifiers')"
            ]
          },
          "metadata": {},
          "execution_count": 13
        },
        {
          "output_type": "display_data",
          "data": {
            "image/png": "[encoded data removed]",
            "text/plain": [
              "<Figure size 432x288 with 1 Axes>"
            ]
          },
          "metadata": {
            "needs_background": "light"
          }
        }
      ]
    },
    {
      "cell_type": "code",
      "metadata": {
        "colab": {
          "base_uri": "https://localhost:8080/",
          "height": 315
        },
        "id": "pRdwIAFhZvpf",
        "outputId": "ef76bf0a-80d9-477f-9790-66fbfb4221e3"
      },
      "source": [
        "names= ['linear SVM', 'Gaussian Kernel SVM', 'Linear SVM with RFF']\n",
        "value= [36.41, 122.56, 23.06]\n",
        "plt.bar(names,value,width=0.4)\n",
        "plt.ylabel('time',fontsize=12)\n",
        "plt.xlabel('classifier',fontsize=12)\n",
        "plt.title(\"comparision between classifiers\", fontweight='bold')"
      ],
      "execution_count": 14,
      "outputs": [
        {
          "output_type": "execute_result",
          "data": {
            "text/plain": [
              "Text(0.5, 1.0, 'comparision between classifiers')"
            ]
          },
          "metadata": {},
          "execution_count": 14
        },
        {
          "output_type": "display_data",
          "data": {
            "image/png": "[encoded data removed]",
            "text/plain": [
              "<Figure size 432x288 with 1 Axes>"
            ]
          },
          "metadata": {
            "needs_background": "light"
          }
        }
      ]
    },
    {
      "cell_type": "code",
      "metadata": {
        "colab": {
          "base_uri": "https://localhost:8080/",
          "height": 353
        },
        "id": "2XQb3AMIjdEQ",
        "outputId": "0e48bbaa-c98f-4b70-b49d-807824046ca8"
      },
      "source": [
        "plt.subplots(figsize=(10, 5))\n",
        "plt.semilogx(try_val, accuracy,'-gD' ,color='red' , label=\"Testing Accuracy\")\n",
        "#matplot.xticks(L,L)\n",
        "plt.grid(True)\n",
        "plt.xlabel(\"parameter D\")\n",
        "plt.ylabel(\"Accuracy\")\n",
        "plt.legend()\n",
        "plt.title('Accuracy according to parameter D')\n",
        "plt.show()"
      ],
      "execution_count": 15,
      "outputs": [
        {
          "output_type": "display_data",
          "data": {
            "image/png": "[encoded data removed]",
            "text/plain": [
              "<Figure size 720x360 with 1 Axes>"
            ]
          },
          "metadata": {
            "needs_background": "light"
          }
        }
      ]
    },
    {
      "cell_type": "code",
      "metadata": {
        "colab": {
          "base_uri": "https://localhost:8080/",
          "height": 370
        },
        "id": "miKDSn46jdER",
        "outputId": "1d49f9a0-ac65-43fa-b8b5-e9ddc46a9758"
      },
      "source": [
        "plt.subplots(figsize=(10, 5))\n",
        "plt.semilogx(try_val, train_time,'-gD' ,color='red')\n",
        "#matplot.xticks(L,L)\n",
        "plt.grid(True)\n",
        "plt.xlabel(\"parameter D\")\n",
        "plt.ylabel(\"training time\")\n",
        "plt.legend()\n",
        "plt.title('fitting time according to parameter D')\n",
        "plt.show()"
      ],
      "execution_count": 16,
      "outputs": [
        {
          "output_type": "stream",
          "name": "stderr",
          "text": [
            "No handles with labels found to put in legend.\n"
          ]
        },
        {
          "output_type": "display_data",
          "data": {
            "image/png": "[encoded data removed]",
            "text/plain": [
              "<Figure size 720x360 with 1 Axes>"
            ]
          },
          "metadata": {
            "needs_background": "light"
          }
        }
      ]
    },
    {
      "cell_type": "code",
      "metadata": {
        "colab": {
          "base_uri": "https://localhost:8080/",
          "height": 370
        },
        "id": "v4VsTm1RjdER",
        "outputId": "200741cf-e8e6-46b2-b922-4fdc1754ba88"
      },
      "source": [
        "plt.subplots(figsize=(10, 5))\n",
        "plt.semilogx(try_val, test_time,'-gD' ,color='red')\n",
        "#matplot.xticks(L,L)\n",
        "plt.grid(True)\n",
        "plt.xlabel(\"parameter D\")\n",
        "plt.ylabel(\"testing time\")\n",
        "plt.legend()\n",
        "plt.title('prediction time according to parameter D')\n",
        "plt.show()"
      ],
      "execution_count": 17,
      "outputs": [
        {
          "output_type": "stream",
          "name": "stderr",
          "text": [
            "No handles with labels found to put in legend.\n"
          ]
        },
        {
          "output_type": "display_data",
          "data": {
            "image/png": "[encoded data removed]",
            "text/plain": [
              "<Figure size 720x360 with 1 Axes>"
            ]
          },
          "metadata": {
            "needs_background": "light"
          }
        }
      ]
    },
    {
      "cell_type": "code",
      "metadata": {
        "colab": {
          "base_uri": "https://localhost:8080/",
          "height": 370
        },
        "id": "kAgIvkKjjdES",
        "outputId": "82c92a33-5007-4f8a-a5ec-bc958d5f6c62"
      },
      "source": [
        "plt.subplots(figsize=(10, 5))\n",
        "plt.semilogx(try_val, rff_time,'-gD' ,color='red')\n",
        "#matplot.xticks(L,L)\n",
        "plt.grid(True)\n",
        "plt.xlabel(\"parameter D\")\n",
        "plt.ylabel(\"RFF time\")\n",
        "plt.legend()\n",
        "plt.title('Random Fourier Feature time according to parameter D')\n",
        "plt.show()"
      ],
      "execution_count": 18,
      "outputs": [
        {
          "output_type": "stream",
          "name": "stderr",
          "text": [
            "No handles with labels found to put in legend.\n"
          ]
        },
        {
          "output_type": "display_data",
          "data": {
            "image/png": "[encoded data removed]",
            "text/plain": [
              "<Figure size 720x360 with 1 Axes>"
            ]
          },
          "metadata": {
            "needs_background": "light"
          }
        }
      ]
    },
    {
      "cell_type": "code",
      "metadata": {
        "colab": {
          "base_uri": "https://localhost:8080/",
          "height": 640
        },
        "id": "lsACpQERznGH",
        "outputId": "0b54104c-d743-4afc-cab3-d05ed0a0330d"
      },
      "source": [
        "!wget -nc https://raw.githubusercontent.com/brpy/colab-pdf/master/colab_pdf.py\n",
        "from colab_pdf import colab_pdf\n",
        "colab_pdf('Project2_part2_update.ipynb')"
      ],
      "execution_count": 19,
      "outputs": [
        {
          "output_type": "stream",
          "name": "stdout",
          "text": [
            "--2021-11-17 16:26:48--  https://raw.githubusercontent.com/brpy/colab-pdf/master/colab_pdf.py\n",
            "Resolving raw.githubusercontent.com (raw.githubusercontent.com)... 185.199.110.133, 185.199.108.133, 185.199.111.133, ...\n",
            "Connecting to raw.githubusercontent.com (raw.githubusercontent.com)|185.199.110.133|:443... connected.\n",
            "HTTP request sent, awaiting response... 200 OK\n",
            "Length: 1864 (1.8K) [text/plain]\n",
            "Saving to: ‘colab_pdf.py’\n",
            "\n",
            "\rcolab_pdf.py          0%[                    ]       0  --.-KB/s               \rcolab_pdf.py        100%[===================>]   1.82K  --.-KB/s    in 0s      \n",
            "\n",
            "2021-11-17 16:26:48 (28.6 MB/s) - ‘colab_pdf.py’ saved [1864/1864]\n",
            "\n",
            "Mounted at /content/drive/\n",
            "\n",
            "WARNING: apt does not have a stable CLI interface. Use with caution in scripts.\n",
            "\n",
            "\n",
            "WARNING: apt does not have a stable CLI interface. Use with caution in scripts.\n",
            "\n",
            "Extracting templates from packages: 100%\n",
            "[NbConvertApp] Converting notebook /content/drive/MyDrive/Colab Notebooks/Project2_part2_update.ipynb to pdf\n",
            "[NbConvertApp] Support files will be in Project2_part2_update_files/\n",
            "[NbConvertApp] Making directory ./Project2_part2_update_files\n",
            "[NbConvertApp] Making directory ./Project2_part2_update_files\n",
            "[NbConvertApp] Making directory ./Project2_part2_update_files\n",
            "[NbConvertApp] Making directory ./Project2_part2_update_files\n",
            "[NbConvertApp] Making directory ./Project2_part2_update_files\n",
            "[NbConvertApp] Making directory ./Project2_part2_update_files\n",
            "[NbConvertApp] Making directory ./Project2_part2_update_files\n",
            "[NbConvertApp] Writing 54977 bytes to ./notebook.tex\n",
            "[NbConvertApp] Building PDF\n",
            "[NbConvertApp] Running xelatex 3 times: [u'xelatex', u'./notebook.tex', '-quiet']\n",
            "[NbConvertApp] Running bibtex 1 time: [u'bibtex', u'./notebook']\n",
            "[NbConvertApp] WARNING | bibtex had problems, most likely because there were no citations\n",
            "[NbConvertApp] PDF successfully created\n",
            "[NbConvertApp] Writing 148543 bytes to /content/drive/My Drive/Project2_part2_update.pdf\n"
          ]
        },
        {
          "output_type": "display_data",
          "data": {
            "application/javascript": [
              "\n",
              "    async function download(id, filename, size) {\n",
              "      if (!google.colab.kernel.accessAllowed) {\n",
              "        return;\n",
              "      }\n",
              "      const div = document.createElement('div');\n",
              "      const label = document.createElement('label');\n",
              "      label.textContent = `Downloading \"${filename}\": `;\n",
              "      div.appendChild(label);\n",
              "      const progress = document.createElement('progress');\n",
              "      progress.max = size;\n",
              "      div.appendChild(progress);\n",
              "      document.body.appendChild(div);\n",
              "\n",
              "      const buffers = [];\n",
              "      let downloaded = 0;\n",
              "\n",
              "      const channel = await google.colab.kernel.comms.open(id);\n",
              "      // Send a message to notify the kernel that we're ready.\n",
              "      channel.send({})\n",
              "\n",
              "      for await (const message of channel.messages) {\n",
              "        // Send a message to notify the kernel that we're ready.\n",
              "        channel.send({})\n",
              "        if (message.buffers) {\n",
              "          for (const buffer of message.buffers) {\n",
              "            buffers.push(buffer);\n",
              "            downloaded += buffer.byteLength;\n",
              "            progress.value = downloaded;\n",
              "          }\n",
              "        }\n",
              "      }\n",
              "      const blob = new Blob(buffers, {type: 'application/binary'});\n",
              "      const a = document.createElement('a');\n",
              "      a.href = window.URL.createObjectURL(blob);\n",
              "      a.download = filename;\n",
              "      div.appendChild(a);\n",
              "      a.click();\n",
              "      div.remove();\n",
              "    }\n",
              "  "
            ],
            "text/plain": [
              "<IPython.core.display.Javascript object>"
            ]
          },
          "metadata": {}
        },
        {
          "output_type": "display_data",
          "data": {
            "application/javascript": [
              "download(\"download_896b00ab-9245-40e4-969e-494ed598ce18\", \"Project2_part2_update.pdf\", 148543)"
            ],
            "text/plain": [
              "<IPython.core.display.Javascript object>"
            ]
          },
          "metadata": {}
        },
        {
          "output_type": "execute_result",
          "data": {
            "application/vnd.google.colaboratory.intrinsic+json": {
              "type": "string"
            },
            "text/plain": [
              "'File ready to be Downloaded and Saved to Drive'"
            ]
          },
          "metadata": {},
          "execution_count": 19
        }
      ]
    },
    {
      "cell_type": "code",
      "metadata": {
        "colab": {
          "base_uri": "https://localhost:8080/"
        },
        "id": "VQ-lUqsU0PQ7",
        "outputId": "9b71c31c-f92e-4cf4-bf13-6f295dbcb779"
      },
      "source": [
        "try_val=[150,100,75,50]\n",
        "for i in range(5):\n",
        "    D=try_val[i]\n",
        "\n",
        "    print(f\" iteration {i} with D= {D}\")\n",
        "\n",
        "    W,b=generate_freq(0.01,D)\n",
        "\n",
        "    tik=time.perf_counter() #start time count \n",
        "    trainX_rff=rff_gaussian2(trainX,W,b,D)\n",
        "    tok=time.perf_counter() #finish time count \n",
        "    print(f\" rff time = {tok-tik}\")\n",
        "\n",
        "\n",
        "    testX_rff=rff_gaussian2(testX,W,b,D)\n",
        "\n",
        "    #Train and evaluate a linear classifier\n",
        "    clfRff = svm.SVC(kernel=\"linear\",C=np.inf)\n",
        "\n",
        "    tik=time.perf_counter() #start time count \n",
        "    clfRff.fit(trainX_rff, trainy)\n",
        "    tok=time.perf_counter() #finish time count \n",
        "    print(f\"train_time = {tok-tik}\")\n",
        "\n",
        "    tik=time.perf_counter() #start time count \n",
        "    predicted = clfRff.predict(testX_rff)\n",
        "    tok=time.perf_counter() #finish time count \n",
        "    print(f\"test_time = {tok-tik}\")\n",
        "\n",
        "    acc = accuracy_score(testy,predicted)\n",
        "    print(f\" accuracy = {acc}\" )\n",
        "    print(\"-------------------------------------\")"
      ],
      "execution_count": null,
      "outputs": [
        {
          "output_type": "stream",
          "name": "stdout",
          "text": [
            " iteration 0 with D= 200\n",
            " rff time = 0.4099537269994471\n",
            "train_time = 4.699243776000003\n",
            "test_time = 16.232915295000566\n",
            " accuracy = 0.8629333333333333\n",
            "-------------------------------------\n",
            " iteration 1 with D= 150\n",
            " rff time = 0.24370581800030777\n"
          ]
        }
      ]
    },
    {
      "cell_type": "code",
      "metadata": {
        "id": "lQVck7hxEdop"
      },
      "source": [
        ""
      ],
      "execution_count": null,
      "outputs": []
    }
  ]
}